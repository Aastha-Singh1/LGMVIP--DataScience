{
 "cells": [
  {
   "cell_type": "markdown",
   "id": "2345479d",
   "metadata": {},
   "source": [
    "# Image to Pencil Sketch with Python"
   ]
  },
  {
   "cell_type": "markdown",
   "id": "d8615d47",
   "metadata": {},
   "source": [
    "By- Aastha Singh"
   ]
  },
  {
   "cell_type": "code",
   "execution_count": 1,
   "id": "da43936f",
   "metadata": {},
   "outputs": [
    {
     "name": "stdout",
     "output_type": "stream",
     "text": [
      "Requirement already satisfied: opencv-python in c:\\users\\aasth\\anaconda3\\lib\\site-packages (4.6.0.66)\n",
      "Requirement already satisfied: numpy>=1.17.3 in c:\\users\\aasth\\anaconda3\\lib\\site-packages (from opencv-python) (1.20.3)\n",
      "Note: you may need to restart the kernel to use updated packages.\n"
     ]
    }
   ],
   "source": [
    "pip install opencv-python"
   ]
  },
  {
   "cell_type": "code",
   "execution_count": 2,
   "id": "fea6f809",
   "metadata": {},
   "outputs": [],
   "source": [
    "import cv2\n",
    "img= cv2.imread(\"butterfly.jpg\")\n",
    "cv2.imshow(\"butterfly\", img)\n",
    "cv2.waitKey(0)\n",
    "cv2.destroyAllWindows()"
   ]
  },
  {
   "cell_type": "code",
   "execution_count": 3,
   "id": "853c6b96",
   "metadata": {},
   "outputs": [],
   "source": [
    "grey_img= cv2.cvtColor(img, cv2.COLOR_BGR2GRAY)"
   ]
  },
  {
   "cell_type": "code",
   "execution_count": 4,
   "id": "527afbcd",
   "metadata": {},
   "outputs": [],
   "source": [
    "cv2.imshow(\"butterfly\", img)\n",
    "cv2.imshow(\"gray butterfly\", grey_img)\n",
    "cv2.waitKey(0)\n",
    "cv2.destroyAllWindows()"
   ]
  },
  {
   "cell_type": "code",
   "execution_count": 5,
   "id": "5cd93be4",
   "metadata": {},
   "outputs": [],
   "source": [
    "inverted_img= cv2.bitwise_not(grey_img)\n",
    "cv2.imshow(\"Inverted butterfly\",inverted_img)\n",
    "cv2.waitKey(0)\n",
    "cv2.destroyAllWindows()"
   ]
  },
  {
   "cell_type": "code",
   "execution_count": 6,
   "id": "f7600ee8",
   "metadata": {},
   "outputs": [],
   "source": [
    "blur_img=cv2.blur(inverted_img, (30,30),0)\n",
    "cv2.imshow(\"blurr butterfly\", blur_img)\n",
    "cv2.waitKey(0)\n",
    "cv2.destroyAllWindows()"
   ]
  },
  {
   "cell_type": "code",
   "execution_count": 7,
   "id": "50df1a4b",
   "metadata": {},
   "outputs": [],
   "source": [
    "inverted2_img= cv2.bitwise_not(blur_img)\n",
    "cv2.imshow(\"Inverted2 butterfly\",inverted2_img)\n",
    "cv2.waitKey(0)\n",
    "cv2.destroyAllWindows()"
   ]
  },
  {
   "cell_type": "code",
   "execution_count": null,
   "id": "60baa93f",
   "metadata": {},
   "outputs": [],
   "source": [
    "sketch_img=cv2.divide(grey_img,inverted2_img,scale=256)\n",
    "cv2.imshow(\"sketch butterfly\", sketch_img)\n",
    "cv2.imshow(\"butterfly\", img)\n",
    "cv2.waitKey(0)\n",
    "cv2.destroyAllWindows()"
   ]
  },
  {
   "cell_type": "code",
   "execution_count": null,
   "id": "fea84406",
   "metadata": {},
   "outputs": [],
   "source": []
  }
 ],
 "metadata": {
  "kernelspec": {
   "display_name": "Python 3 (ipykernel)",
   "language": "python",
   "name": "python3"
  },
  "language_info": {
   "codemirror_mode": {
    "name": "ipython",
    "version": 3
   },
   "file_extension": ".py",
   "mimetype": "text/x-python",
   "name": "python",
   "nbconvert_exporter": "python",
   "pygments_lexer": "ipython3",
   "version": "3.9.7"
  }
 },
 "nbformat": 4,
 "nbformat_minor": 5
}
